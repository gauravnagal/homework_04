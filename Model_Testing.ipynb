{
 "cells": [
  {
   "cell_type": "markdown",
   "metadata": {},
   "source": [
    "#### Load Packages"
   ]
  },
  {
   "cell_type": "code",
   "execution_count": 1,
   "metadata": {},
   "outputs": [],
   "source": [
    "# importing packages\n",
    "import pandas as pd\n",
    "import numpy as np\n",
    "import pprint\n",
    "from sklearn import tree\n",
    "from sklearn.ensemble import RandomForestClassifier\n",
    "from sklearn import svm\n",
    "import tensorflow as tf\n",
    "from sklearn.metrics import confusion_matrix\n",
    "import seaborn as sns\n",
    "import matplotlib.pyplot as plt"
   ]
  },
  {
   "cell_type": "code",
   "execution_count": 2,
   "metadata": {},
   "outputs": [],
   "source": [
    "AcquisitionColumnNames = (\n",
    "    \"LOAN_ID\", \"ORIG_CHN\", \"Seller.Name\", \n",
    "    \"ORIG_RT\", \"ORIG_AMT\", \"ORIG_TRM\", \"ORIG_DTE\",\n",
    "    \"FRST_DTE\", \"OLTV\", \"OCLTV\", \"NUM_BO\", \n",
    "    \"DTI\", \"CSCORE_B\", \"FTHB_FLG\", \"PURPOSE\", \n",
    "    \"PROP_TYP\", \"NUM_UNIT\", \"OCC_STAT\", \"STATE\", \"ZIP_3\", \n",
    "    \"MI_PCT\", \"Product.Type\", \"CSCORE_C\", \"MI_TYPE\", \n",
    "    \"RELOCATION_FLG\"\n",
    ")\n",
    "\n",
    "PerformanceColumnNames = (\n",
    "    \"LOAN_ID\", \"Monthly.Rpt.Prd\", \"Servicer.Name\", \n",
    "    \"LAST_RT\", \"LAST_UPB\", \"Loan.Age\", \"Months.To.Legal.Mat\", \n",
    "    \"Adj.Month.To.Mat\", \"Maturity.Date\", \"MSA\", \n",
    "    \"Delq.Status\", \"MOD_FLAG\", \"Zero.Bal.Code\", \n",
    "    \"ZB_DTE\", \"LPI_DTE\", \"FCC_DTE\",\"DISP_DT\", \n",
    "    \"FCC_COST\", \"PP_COST\", \"AR_COST\", \"IE_COST\", \n",
    "    \"TAX_COST\", \"NS_PROCS\",\"CE_PROCS\", \"RMW_PROCS\", \n",
    "    \"O_PROCS\", \"NON_INT_UPB\", \"PRIN_FORG_UPB_FHFA\", \n",
    "    \"REPCH_FLAG\", \"PRIN_FORG_UPB_OTH\", \"TRANSFER_FLG\"\n",
    ")"
   ]
  },
  {
   "cell_type": "code",
   "execution_count": 3,
   "metadata": {},
   "outputs": [
    {
     "name": "stderr",
     "output_type": "stream",
     "text": [
      "C:\\Users\\gaura\\Anaconda3\\lib\\site-packages\\IPython\\core\\interactiveshell.py:3020: DtypeWarning: Columns (14,15,16) have mixed types. Specify dtype option on import or set low_memory=False.\n",
      "  interactivity=interactivity, compiler=compiler, result=result)\n"
     ]
    }
   ],
   "source": [
    "acquisition_df = pd.read_csv(\"Acquisition_2010Q1.txt\",\n",
    "                            names = AcquisitionColumnNames,\n",
    "                            header = None, sep = '|')\n",
    "\n",
    "performance_df = pd.read_csv(\"Performance_2010Q1.txt\",\n",
    "                             names = PerformanceColumnNames,\n",
    "                             header = None, sep = '|')"
   ]
  },
  {
   "cell_type": "markdown",
   "metadata": {},
   "source": [
    "#### Data Modification"
   ]
  },
  {
   "cell_type": "code",
   "execution_count": 4,
   "metadata": {},
   "outputs": [],
   "source": [
    "DS = set(performance_df['Delq.Status'])"
   ]
  },
  {
   "cell_type": "code",
   "execution_count": 5,
   "metadata": {},
   "outputs": [
    {
     "name": "stdout",
     "output_type": "stream",
     "text": [
      "{nan, '30', '1', '20', '13', '7', '77', '40', '11', '14', '35', '89', '90', '32', '66', '8', '41', '69', '97', '0', '88', '24', '42', '58', '61', '75', '56', '46', '63', '52', '3', '81', '33', '65', '28', '34', '50', '95', '60', '5', '39', '57', '82', '68', '22', '47', '27', '99', '72', '71', '23', '29', '59', '70', '78', '54', '12', '79', 'X', '15', '26', '43', '84', '86', '37', '96', '83', '38', '87', '62', '80', '19', '17', '45', '64', '85', '94', '76', '36', '91', '25', '49', '31', '10', '92', '93', '98', '16', '74', '21', '6', '2', '73', '4', '55', '53', '51', '44', '48', '67', '18', '9'}\n"
     ]
    }
   ],
   "source": [
    "print(DS)\n",
    "\n",
    "mapper = {}\n",
    "for ds in DS:\n",
    "    try:\n",
    "        mapper[ds] = int(ds)\n",
    "    except:\n",
    "        mapper[ds] = -1\n",
    "\n",
    "performance_df['Delq.Status'] = performance_df['Delq.Status'].map(mapper)"
   ]
  },
  {
   "cell_type": "markdown",
   "metadata": {},
   "source": [
    "#### Grouping By Loan ID"
   ]
  },
  {
   "cell_type": "code",
   "execution_count": 6,
   "metadata": {},
   "outputs": [],
   "source": [
    "loans=performance_df.groupby(\"LOAN_ID\", sort=True)['Delq.Status'].max()\n",
    "\n",
    "ID_To_Delinq = {}\n",
    "\n",
    "for row in loans.iteritems():\n",
    "    loan_id, delinq = row\n",
    "    ID_To_Delinq[loan_id] = delinq"
   ]
  },
  {
   "cell_type": "code",
   "execution_count": 7,
   "metadata": {},
   "outputs": [],
   "source": [
    "def mapper(row):\n",
    "    return ID_To_Delinq.get(row['LOAN_ID'], -1)\n",
    "\n",
    "acquisition_df['MAX_DELINQ'] = acquisition_df.apply(mapper,axis=1)"
   ]
  },
  {
   "cell_type": "code",
   "execution_count": 8,
   "metadata": {},
   "outputs": [
    {
     "name": "stdout",
     "output_type": "stream",
     "text": [
      "(322866, 2)\n",
      "(322866, 1)\n",
      "(322866, 3)\n",
      "(322866, 2)\n",
      "(322866, 1)\n",
      "Train Number: 258292\n",
      "X_Train: (258292, 2)\n",
      "X_Test: (64574, 2)\n",
      "====================\n",
      "y_Train: (258292, 1)\n",
      "y_Test:  (64574, 1)\n"
     ]
    }
   ],
   "source": [
    "DEL_NOTNAN = acquisition_df[\"MAX_DELINQ\"].notna()\n",
    "df = acquisition_df[DEL_NOTNAN]\n",
    "DEL_NOTNEG = df['MAX_DELINQ'] >= 0\n",
    "df = df[DEL_NOTNEG]\n",
    "OLTV = df['OLTV'].notna()\n",
    "df = df[OLTV]\n",
    "CS = df['CSCORE_B'].notna()\n",
    "df = df[CS]\n",
    "\n",
    "def mapper(row):\n",
    "    delinq = row['MAX_DELINQ']\n",
    "    if delinq > 12:\n",
    "        return 2\n",
    "    elif delinq > 0:\n",
    "        return 1\n",
    "    if delinq == -1:\n",
    "        return -1\n",
    "    else:\n",
    "        return 0\n",
    "\n",
    "df['Delinq.Bin'] = df.apply(mapper, axis=1)\n",
    "\n",
    "credit_score  = np.array(df['CSCORE_B'])\n",
    "loan_to_value = np.array(df['OLTV'])\n",
    "max_delinq    = np.array(df['Delinq.Bin'])\n",
    "\n",
    "X = np.array([credit_score, loan_to_value]).transpose()\n",
    "y = np.array([max_delinq]).transpose()\n",
    "print(X.shape)\n",
    "print(y.shape)\n",
    "\n",
    "Total = np.hstack([X, y])\n",
    "print(Total.shape)\n",
    "np.random.shuffle(Total)\n",
    "\n",
    "X = Total[:, :2]\n",
    "y = Total[:, 2:]\n",
    "\n",
    "print(X.shape)\n",
    "print(y.shape)\n",
    "\n",
    "prop = 0.8\n",
    "train_num = int(prop * len(Total))\n",
    "print(f\"Train Number: {train_num}\")\n",
    "\n",
    "X_train, X_test = X[:train_num], X[train_num:]\n",
    "y_train, y_test = y[:train_num], y[train_num:]\n",
    "\n",
    "print(f\"X_Train: {X_train.shape}\")\n",
    "print(f\"X_Test: {X_test.shape}\")\n",
    "print(\"==\"*10)\n",
    "print(f\"y_Train: {y_train.shape}\")\n",
    "print(f\"y_Test:  {y_test.shape}\")\n",
    "\n",
    "class_names = np.unique(y)"
   ]
  },
  {
   "cell_type": "code",
   "execution_count": 9,
   "metadata": {},
   "outputs": [
    {
     "data": {
      "text/plain": [
       "(array([293864.,      0.,      0.,      0.,      0.,  27421.,      0.,\n",
       "             0.,      0.,   1581.]),\n",
       " array([0. , 0.2, 0.4, 0.6, 0.8, 1. , 1.2, 1.4, 1.6, 1.8, 2. ]),\n",
       " <a list of 10 Patch objects>)"
      ]
     },
     "execution_count": 9,
     "metadata": {},
     "output_type": "execute_result"
    },
    {
     "data": {
      "image/png": "[encoded data removed]",
      "text/plain": [
       "<Figure size 432x288 with 1 Axes>"
      ]
     },
     "metadata": {
      "needs_background": "light"
     },
     "output_type": "display_data"
    }
   ],
   "source": [
    "plt.hist(y)"
   ]
  },
  {
   "cell_type": "markdown",
   "metadata": {},
   "source": [
    "#### Create Class Weighting"
   ]
  },
  {
   "cell_type": "code",
   "execution_count": 10,
   "metadata": {},
   "outputs": [
    {
     "name": "stdout",
     "output_type": "stream",
     "text": [
      "0.0  |  293864\n",
      "1.0  |  27421\n",
      "2.0  |  1581\n"
     ]
    }
   ],
   "source": [
    "\n",
    "V, C = np.unique(y, return_counts=True)\n",
    "\n",
    "class_weights = {}\n",
    "\n",
    "for v, c in zip(V, C):\n",
    "    prop = c / len(y)\n",
    "    print(v, \" | \", c)\n",
    "    class_weights[v] = 1 - prop"
   ]
  },
  {
   "cell_type": "markdown",
   "metadata": {},
   "source": [
    "#### Create Class to Train, Test, and Store Results"
   ]
  },
  {
   "cell_type": "code",
   "execution_count": 32,
   "metadata": {},
   "outputs": [],
   "source": [
    "class Test_Ml:\n",
    "    def __init__(self, X_train, X_test, y_train, y_test):\n",
    "        self.X_train = X_train\n",
    "        self.X_test = X_test\n",
    "        self.y_train = y_train\n",
    "        self.y_test = y_test\n",
    "        self.y_train_reshape = y_train.reshape(y_train.shape[0],)\n",
    "        self.y_test_reshape = y_test.reshape(y_test.shape[0],)\n",
    "    \n",
    "    def DTC(self):\n",
    "        dtc = tree.DecisionTreeClassifier(max_depth = None, class_weight = class_weights).fit(self.X_train, self.y_train)\n",
    "        dtc_pred = dtc.predict(self.X_test)\n",
    "        cm = confusion_matrix(self.y_test, dtc_pred)\n",
    "        score = dtc.score(self.X_test, self.y_test)\n",
    "        return score, cm\n",
    "    \n",
    "    def RFC(self):\n",
    "        rfc = RandomForestClassifier(n_estimators = 50, class_weight = class_weights).fit(self.X_train, self.y_train_reshape)\n",
    "        rfc_pred = rfc.predict(self.X_test)\n",
    "        cm = confusion_matrix(self.y_test_reshape, rfc_pred)\n",
    "        score = rfc.score(self.X_test, self.y_test_reshape)\n",
    "        return score, cm\n",
    "    \n",
    "    def SVM(self):\n",
    "        svc = svm.SVC(gamma = 'scale', decision_function_shape = 'ovo', max_iter = 1500).fit(self.X_train, self.y_train_reshape)\n",
    "        svc_pred = svc.predict(self.X_test)\n",
    "        cm = confusion_matrix(self.y_test_reshape, svc_pred)\n",
    "        score = svc.score(self.X_test, self.y_test_reshape)\n",
    "        return score, cm\n",
    "    \n",
    "    def NN(self, batch_size = 64, shuffle_buffer_size = 100, epochs = 1):\n",
    "        train_dataset = tf.data.Dataset.from_tensor_slices((self.X_train, self.y_train))\n",
    "        test_dataset = tf.data.Dataset.from_tensor_slices((self.X_test, self.y_test))\n",
    "        \n",
    "        train_dataset = train_dataset.shuffle(shuffle_buffer_size).batch(batch_size)\n",
    "        test_dataset = test_dataset.shuffle(shuffle_buffer_size).batch(batch_size)\n",
    "        \n",
    "        output_size = len(np.unique(self.y_train))\n",
    "        \n",
    "        model = tf.keras.Sequential([\n",
    "            tf.keras.layers.Dense(128, input_shape = [2]),\n",
    "            tf.keras.layers.Dense(128, activation = 'relu'),\n",
    "            tf.keras.layers.Dense(output_size, activation = 'softmax')\n",
    "        ])\n",
    "        \n",
    "        model.compile(optimizer = tf.keras.optimizers.RMSprop(),\n",
    "                     loss = tf.keras.losses.SparseCategoricalCrossentropy(),\n",
    "                     metrics = [tf.keras.metrics.SparseCategoricalAccuracy()])\n",
    "        \n",
    "        history = model.fit(train_dataset, validation_data = test_dataset, class_weight = class_weights, epochs = epochs)\n",
    "        \n",
    "        nn_pred = model.predict_classes(self.X_test)\n",
    "        \n",
    "        score = np.mean(nn_pred == self.y_test)\n",
    "        cm = confusion_matrix(self.y_test, nn_pred)\n",
    "        return score, cm\n",
    "    \n",
    "    def Plot_Confusion_Matrix(self, cm):\n",
    "        cm_mod = cm.astype('float') / cm.sum(axis = 1)[:, np.newaxis]\n",
    "        fig, ax = plt.subplots()\n",
    "        im = ax.imshow(cm_mod, interpolation = 'nearest', cmap = plt.cm.Blues)\n",
    "        ax.set(xticks = np.arange(cm_mod.shape[1]),\n",
    "               yticks = np.arange(cm_mod.shape[0]),\n",
    "               ylabel='True label',\n",
    "               xlabel='Predicted label')\n",
    "         \n",
    "        fmt = '.2f'\n",
    "        thresh = cm_mod.max() / 2.\n",
    "        for i in range(cm_mod.shape[0]):\n",
    "            for j in range(cm_mod.shape[1]):\n",
    "                ax.text(j, i, format(cm_mod[i, j], fmt),\n",
    "                        ha = 'center', va = 'center',\n",
    "                        color = 'white' if cm_mod[i, j] > thresh else 'black')\n",
    "            \n",
    "        fig.tight_layout()"
   ]
  },
  {
   "cell_type": "markdown",
   "metadata": {},
   "source": [
    "#### Testing Model"
   ]
  },
  {
   "cell_type": "code",
   "execution_count": 33,
   "metadata": {},
   "outputs": [],
   "source": [
    "test_models = Test_Ml(X_train, X_test, y_train, y_test)"
   ]
  },
  {
   "cell_type": "code",
   "execution_count": 34,
   "metadata": {},
   "outputs": [
    {
     "name": "stderr",
     "output_type": "stream",
     "text": [
      "C:\\Users\\gaura\\Anaconda3\\lib\\site-packages\\sklearn\\svm\\base.py:244: ConvergenceWarning: Solver terminated early (max_iter=1500).  Consider pre-processing your data with StandardScaler or MinMaxScaler.\n",
      "  % self.max_iter, ConvergenceWarning)\n"
     ]
    },
    {
     "name": "stdout",
     "output_type": "stream",
     "text": [
      "4036/4036 [==============================] - 38s 10ms/step - loss: 1.3364 - sparse_categorical_accuracy: 0.9098 - val_loss: 1.4253 - val_sparse_categorical_accuracy: 0.9116\n"
     ]
    }
   ],
   "source": [
    "result = [test_models.DTC(), test_models.RFC(), test_models.SVM(), test_models.NN()]"
   ]
  },
  {
   "cell_type": "code",
   "execution_count": 35,
   "metadata": {},
   "outputs": [
    {
     "name": "stdout",
     "output_type": "stream",
     "text": [
      "        score                                                 cm\n",
      "DTC  0.680011  [[41222, 17301, 341], [2634, 2685, 70], [119, ...\n",
      "RFC  0.725989  [[44496, 14250, 118], [2984, 2381, 24], [141, ...\n",
      "SVM  0.824372  [[52014, 6850, 0], [4170, 1219, 0], [228, 93, 0]]\n",
      "NN   0.911574         [[58864, 0, 0], [5389, 0, 0], [321, 0, 0]]\n"
     ]
    }
   ],
   "source": [
    "result_df = pd.DataFrame(result, index = ['DTC', 'RFC', 'SVM', 'NN'], columns = ['score', 'cm'])\n",
    "print(result_df)"
   ]
  },
  {
   "cell_type": "markdown",
   "metadata": {},
   "source": [
    "#### Results of Scoring"
   ]
  },
  {
   "cell_type": "code",
   "execution_count": 36,
   "metadata": {},
   "outputs": [],
   "source": [
    "scores_dictionary = {'Decision Tree': result_df['score']['DTC'], \n",
    "                     'Random Forest': result_df['score']['RFC'], \n",
    "                     'Support Vector Machine': result_df['score']['SVM'], \n",
    "                     'Tensorflow Network': result_df['score']['NN']}"
   ]
  },
  {
   "cell_type": "code",
   "execution_count": 37,
   "metadata": {},
   "outputs": [
    {
     "name": "stdout",
     "output_type": "stream",
     "text": [
      "{'Decision Tree': 0.680010530554093,\n",
      " 'Random Forest': 0.7259887880571128,\n",
      " 'Support Vector Machine': 0.8243720382816614,\n",
      " 'Tensorflow Network': 0.9115743178369003}\n"
     ]
    }
   ],
   "source": [
    "pprint.pprint(scores_dictionary)"
   ]
  },
  {
   "cell_type": "markdown",
   "metadata": {},
   "source": [
    "#### Plot Confusion Matrix"
   ]
  },
  {
   "cell_type": "code",
   "execution_count": 38,
   "metadata": {},
   "outputs": [
    {
     "data": {
      "image/png": "[encoded data removed]",
      "text/plain": [
       "<Figure size 432x288 with 1 Axes>"
      ]
     },
     "metadata": {
      "needs_background": "light"
     },
     "output_type": "display_data"
    }
   ],
   "source": [
    "# Decision Tree\n",
    "test_models.Plot_Confusion_Matrix(result_df['cm']['DTC'])"
   ]
  },
  {
   "cell_type": "code",
   "execution_count": 39,
   "metadata": {},
   "outputs": [
    {
     "data": {
      "image/png": "[encoded data removed]",
      "text/plain": [
       "<Figure size 432x288 with 1 Axes>"
      ]
     },
     "metadata": {
      "needs_background": "light"
     },
     "output_type": "display_data"
    }
   ],
   "source": [
    "# Random Forest \n",
    "test_models.Plot_Confusion_Matrix(result_df['cm']['RFC'])"
   ]
  },
  {
   "cell_type": "code",
   "execution_count": 40,
   "metadata": {},
   "outputs": [
    {
     "data": {
      "image/png": "[encoded data removed]",
      "text/plain": [
       "<Figure size 432x288 with 1 Axes>"
      ]
     },
     "metadata": {
      "needs_background": "light"
     },
     "output_type": "display_data"
    }
   ],
   "source": [
    "# Support Vector Machine\n",
    "test_models.Plot_Confusion_Matrix(result_df['cm']['SVM'])"
   ]
  },
  {
   "cell_type": "code",
   "execution_count": 41,
   "metadata": {},
   "outputs": [
    {
     "data": {
      "image/png": "[encoded data removed]",
      "text/plain": [
       "<Figure size 432x288 with 1 Axes>"
      ]
     },
     "metadata": {
      "needs_background": "light"
     },
     "output_type": "display_data"
    }
   ],
   "source": [
    "# Tensorflow Network\n",
    "test_models.Plot_Confusion_Matrix(result_df['cm']['NN'])"
   ]
  }
 ],
 "metadata": {
  "kernelspec": {
   "display_name": "Python 3",
   "language": "python",
   "name": "python3"
  },
  "language_info": {
   "codemirror_mode": {
    "name": "ipython",
    "version": 3
   },
   "file_extension": ".py",
   "mimetype": "text/x-python",
   "name": "python",
   "nbconvert_exporter": "python",
   "pygments_lexer": "ipython3",
   "version": "3.7.1"
  }
 },
 "nbformat": 4,
 "nbformat_minor": 4
}
